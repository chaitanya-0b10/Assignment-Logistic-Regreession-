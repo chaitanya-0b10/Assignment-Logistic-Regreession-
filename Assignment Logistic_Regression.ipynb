{
 "cells": [
  {
   "cell_type": "markdown",
   "id": "b85210d9-d72e-48c9-bda2-39cef6a4b48d",
   "metadata": {},
   "source": [
    "# Assignment : Logistic Regreession "
   ]
  },
  {
   "cell_type": "markdown",
   "id": "bf986260-f8ca-4a01-9ded-7fe229bdf64c",
   "metadata": {},
   "source": [
    "## Theory Question "
   ]
  },
  {
   "cell_type": "markdown",
   "id": "eb67c1bb-cb47-41c9-8747-9967329e8321",
   "metadata": {},
   "source": [
    " Q1. What is Logistic Regression, and how does it differ from Linear Regression"
   ]
  },
  {
   "cell_type": "code",
   "execution_count": 149,
   "id": "ba5452c2-305b-4039-8d7a-d170b1d95059",
   "metadata": {},
   "outputs": [
    {
     "data": {
      "text/plain": [
       "\" \\nLogistic Regression is a statistical method for predicting binary outcomes. \\nIt's used when the dependent variable is categorical, meaning it has two possible outcomes (0/1, True/False, Yes/No).\\nInstead of predicting the exact value, Logistic Regression estimates the probability that a given input point belongs to \\na particular category.\\n\\nDifferences:-\\nOutcome Type: Logistic Regression predicts probabilities and is used for classification tasks, \\nwhereas Linear Regression predicts a continuous value.\\n\\nModel Output: Logistic Regression outputs probabilities that are mapped to classes (0 or 1), \\nwhile Linear Regression outputs a numerical value directly.\\n\\nFunction: Logistic Regression uses the logistic function (sigmoid),\\nwhereas Linear Regression uses a linear function.\\n\""
      ]
     },
     "execution_count": 149,
     "metadata": {},
     "output_type": "execute_result"
    }
   ],
   "source": [
    "\"\"\" \n",
    "Logistic Regression is a statistical method for predicting binary outcomes. \n",
    "It's used when the dependent variable is categorical, meaning it has two possible outcomes (0/1, True/False, Yes/No).\n",
    "Instead of predicting the exact value, Logistic Regression estimates the probability that a given input point belongs to \n",
    "a particular category.\n",
    "\n",
    "Differences:-\n",
    "Outcome Type: Logistic Regression predicts probabilities and is used for classification tasks, \n",
    "whereas Linear Regression predicts a continuous value.\n",
    "\n",
    "Model Output: Logistic Regression outputs probabilities that are mapped to classes (0 or 1), \n",
    "while Linear Regression outputs a numerical value directly.\n",
    "\n",
    "Function: Logistic Regression uses the logistic function (sigmoid),\n",
    "whereas Linear Regression uses a linear function.\n",
    "\"\"\""
   ]
  },
  {
   "cell_type": "markdown",
   "id": "106fea94-acc1-4442-a8f1-1717c0696b52",
   "metadata": {},
   "source": [
    " Q2. What is the mathematical equation of Logistic Regression"
   ]
  },
  {
   "cell_type": "code",
   "execution_count": 151,
   "id": "864ee861-0435-4589-92c7-2fe94ac15a52",
   "metadata": {},
   "outputs": [
    {
     "data": {
      "text/plain": [
       "'Logistic Regression Equation\\n\\nThis equation uses the logistic (sigmoid) function to predict the probability of the binary outcome.\\n \\nP(y = 1|x) = 1/1+e^-(B0+B1x1+B2x2+.....+Bnxn)\\n\\n-> P(y = 1|x) is the probability of the outcome being 1\\n-> B0, B1,....., Bn are the coefficients (parameters) to be learned from the data\\n-> x1, x2,...., xn are the independent variables(features)\\n\\n'"
      ]
     },
     "execution_count": 151,
     "metadata": {},
     "output_type": "execute_result"
    }
   ],
   "source": [
    "\"\"\"Logistic Regression Equation\n",
    "\n",
    "This equation uses the logistic (sigmoid) function to predict the probability of the binary outcome.\n",
    " \n",
    "P(y = 1|x) = 1/1+e^-(B0+B1x1+B2x2+.....+Bnxn)\n",
    "\n",
    "-> P(y = 1|x) is the probability of the outcome being 1\n",
    "-> B0, B1,....., Bn are the coefficients (parameters) to be learned from the data\n",
    "-> x1, x2,...., xn are the independent variables(features)\n",
    "\n",
    "\"\"\""
   ]
  },
  {
   "cell_type": "markdown",
   "id": "75b3b9dd-58b9-4ecb-a503-cf1f9bdc2593",
   "metadata": {},
   "source": [
    "Q3. Why do we use the Sigmoid function in Logistic Regression"
   ]
  },
  {
   "cell_type": "code",
   "execution_count": 153,
   "id": "e4a0f35a-17b9-4e1a-99b5-ded16f06d99c",
   "metadata": {},
   "outputs": [
    {
     "data": {
      "text/plain": [
       "'We use the sigmoid function in Logistic Regression because it maps any real-valued number into \\na value between 0 and 1. This is crucial for predicting probabilities, which must fall within this range. \\nThe sigmoid function, ensures the output is interpretable as a probability, making it perfect for classification \\ntasks where we need to distinguish between two classes (e.g., spam/not spam).\\n\\nIn short, the sigmoid function helps transform the linear combination of inputs into a probability \\nthat can be used for binary classification.'"
      ]
     },
     "execution_count": 153,
     "metadata": {},
     "output_type": "execute_result"
    }
   ],
   "source": [
    "\"\"\"We use the sigmoid function in Logistic Regression because it maps any real-valued number into \n",
    "a value between 0 and 1. This is crucial for predicting probabilities, which must fall within this range. \n",
    "The sigmoid function, ensures the output is interpretable as a probability, making it perfect for classification \n",
    "tasks where we need to distinguish between two classes (e.g., spam/not spam).\n",
    "\n",
    "In short, the sigmoid function helps transform the linear combination of inputs into a probability \n",
    "that can be used for binary classification.\"\"\""
   ]
  },
  {
   "cell_type": "markdown",
   "id": "bf314f49-7c5c-4f79-92b1-9cccc3ecf635",
   "metadata": {},
   "source": [
    "Q4.  What is the cost function of Logistic Regression"
   ]
  },
  {
   "cell_type": "code",
   "execution_count": 155,
   "id": "d302cc5e-cb29-46f2-883a-481ffd0ed035",
   "metadata": {},
   "outputs": [
    {
     "data": {
      "text/plain": [
       "\"The cost function in Logistic Regression is used to measure how well the model's predictions match the actual data.\\nIt's called the Log-Loss or Cross-Entropy Loss function. The cost function aims to minimize the difference between the \\npredicted probabilities and the actual class labels.\""
      ]
     },
     "execution_count": 155,
     "metadata": {},
     "output_type": "execute_result"
    }
   ],
   "source": [
    "\"\"\"The cost function in Logistic Regression is used to measure how well the model's predictions match the actual data.\n",
    "It's called the Log-Loss or Cross-Entropy Loss function. The cost function aims to minimize the difference between the \n",
    "predicted probabilities and the actual class labels.\"\"\""
   ]
  },
  {
   "cell_type": "markdown",
   "id": "58be3b28-279d-4492-a915-3aad51e5645a",
   "metadata": {},
   "source": [
    "Q5. What is Regularization in Logistic Regression? Why is it needed"
   ]
  },
  {
   "cell_type": "code",
   "execution_count": 157,
   "id": "d5fe0341-96d6-438a-a7d6-7924c82541a7",
   "metadata": {},
   "outputs": [
    {
     "data": {
      "text/plain": [
       "'Regularization is a technique used in Logistic Regression to prevent overfitting by adding \\na penalty to the cost function.\\n\\nWhy is Regularization Needed?\\nPrevent Overfitting: It helps the model generalize better to unseen data by discouraging overly complex models.\\n\\nSimplify the Model: Encourages smaller coefficients, leading to simpler models that are easier to interpret.\\n\\nFeature Selection: L1 regularization can lead to sparse models by driving some coefficients to zero, \\neffectively selecting relevant features.\\n\\n'"
      ]
     },
     "execution_count": 157,
     "metadata": {},
     "output_type": "execute_result"
    }
   ],
   "source": [
    "\"\"\"Regularization is a technique used in Logistic Regression to prevent overfitting by adding \n",
    "a penalty to the cost function.\n",
    "\n",
    "Why is Regularization Needed?\n",
    "Prevent Overfitting: It helps the model generalize better to unseen data by discouraging overly complex models.\n",
    "\n",
    "Simplify the Model: Encourages smaller coefficients, leading to simpler models that are easier to interpret.\n",
    "\n",
    "Feature Selection: L1 regularization can lead to sparse models by driving some coefficients to zero, \n",
    "effectively selecting relevant features.\n",
    "\n",
    "\"\"\""
   ]
  },
  {
   "cell_type": "markdown",
   "id": "797a8880-e9d5-4925-97c6-b48920362f5e",
   "metadata": {},
   "source": [
    "Q6. Explain the difference between Lasso, Ridge, and Elastic Net regression"
   ]
  },
  {
   "cell_type": "code",
   "execution_count": 159,
   "id": "fc538ef5-d2d8-429d-9d4f-748d10130fb8",
   "metadata": {},
   "outputs": [
    {
     "data": {
      "text/plain": [
       "'\\nLasso Regression (L1 Regularization):\\nPenalty: Adds the absolute values of the coefficients.\\nEffect: Can shrink some coefficients to zero, effectively performing feature selection.\\nUse Case: When you want to identify the most important features.\\n\\nRidge Regression (L2 Regularization):\\nPenalty: Adds the squared values of the coefficients.\\nEffect: Shrinks coefficients but does not set them to zero. All features are kept in the model.\\nUse Case: When you want to prevent overfitting while keeping all features.\\n\\nElastic Net Regression:\\nPenalty: Combines L1 and L2 regularization.\\nEffect: Balances the benefits of both Lasso and Ridge. It can select important features (like Lasso) while also handling multicollinearity (like Ridge).\\nUse Case: When you have many correlated features and want a robust model.\\n'"
      ]
     },
     "execution_count": 159,
     "metadata": {},
     "output_type": "execute_result"
    }
   ],
   "source": [
    "\"\"\"\n",
    "Lasso Regression (L1 Regularization):\n",
    "Penalty: Adds the absolute values of the coefficients.\n",
    "Effect: Can shrink some coefficients to zero, effectively performing feature selection.\n",
    "Use Case: When you want to identify the most important features.\n",
    "\n",
    "Ridge Regression (L2 Regularization):\n",
    "Penalty: Adds the squared values of the coefficients.\n",
    "Effect: Shrinks coefficients but does not set them to zero. All features are kept in the model.\n",
    "Use Case: When you want to prevent overfitting while keeping all features.\n",
    "\n",
    "Elastic Net Regression:\n",
    "Penalty: Combines L1 and L2 regularization.\n",
    "Effect: Balances the benefits of both Lasso and Ridge. It can select important features (like Lasso) while also handling multicollinearity (like Ridge).\n",
    "Use Case: When you have many correlated features and want a robust model.\n",
    "\"\"\""
   ]
  },
  {
   "cell_type": "markdown",
   "id": "27079446-cbe5-4ff5-9fe0-3b6552b86a4a",
   "metadata": {},
   "source": [
    "Q7. When should we use Elastic Net instead of Lasso or Ridge"
   ]
  },
  {
   "cell_type": "code",
   "execution_count": 161,
   "id": "dd0b95c9-390e-45c1-96c2-180d0237d953",
   "metadata": {},
   "outputs": [
    {
     "data": {
      "text/plain": [
       "'\\nElastic Net is particularly useful when you have a dataset with many features that are highly \\ncorrelated. when you should consider using Elastic Net over Lasso or Ridge:\\n\\nMulticollinearity: If your features are highly correlated, Elastic Net can handle this better than Lasso alone.\\nThe combination of L1 and L2 penalties helps balance between selecting important features and managing multicollinearity.\\n\\nFeature Selection and Regularization: Elastic Net combines the benefits of both Lasso (which performs feature selection by shrinking \\nsome coefficients to zero) and Ridge (which shrinks coefficients without setting them to zero). This balance can lead to better performance.\\n\\nModel Flexibility: Elastic Net provides more flexibility by allowing you to control the balance between L1 and L2 regularization through\\ntwo parameters (𝜆1 and 𝜆2) This flexibility can help in fine-tuning the model to achieve better accuracy.\\n'"
      ]
     },
     "execution_count": 161,
     "metadata": {},
     "output_type": "execute_result"
    }
   ],
   "source": [
    "\"\"\"\n",
    "Elastic Net is particularly useful when you have a dataset with many features that are highly \n",
    "correlated. when you should consider using Elastic Net over Lasso or Ridge:\n",
    "\n",
    "Multicollinearity: If your features are highly correlated, Elastic Net can handle this better than Lasso alone.\n",
    "The combination of L1 and L2 penalties helps balance between selecting important features and managing multicollinearity.\n",
    "\n",
    "Feature Selection and Regularization: Elastic Net combines the benefits of both Lasso (which performs feature selection by shrinking \n",
    "some coefficients to zero) and Ridge (which shrinks coefficients without setting them to zero). This balance can lead to better performance.\n",
    "\n",
    "Model Flexibility: Elastic Net provides more flexibility by allowing you to control the balance between L1 and L2 regularization through\n",
    "two parameters (𝜆1 and 𝜆2) This flexibility can help in fine-tuning the model to achieve better accuracy.\n",
    "\"\"\""
   ]
  },
  {
   "cell_type": "markdown",
   "id": "6a3ea24a-2f3d-4f26-92ce-d549f146b3d5",
   "metadata": {},
   "source": [
    "Q8.  What is the impact of the regularization parameter (λ) in Logistic Regression"
   ]
  },
  {
   "cell_type": "code",
   "execution_count": 163,
   "id": "c6b879cc-b938-4058-978c-e6b453935bf0",
   "metadata": {},
   "outputs": [
    {
     "data": {
      "text/plain": [
       "'\\nThe regularization parameter (λ) in Logistic Regression controls the strength of the penalty applied to the model coefficients\\n\\nLow λ: More complex model, higher risk of overfitting.\\n\\nHigh λ: Simpler model, reduced risk of overfitting, but may lead to underfitting if too large.\\n\\nRegularization helps balance the trade-off between bias and variance, leading to better generalization on new data.\\n'"
      ]
     },
     "execution_count": 163,
     "metadata": {},
     "output_type": "execute_result"
    }
   ],
   "source": [
    "\"\"\"\n",
    "The regularization parameter (λ) in Logistic Regression controls the strength of the penalty applied to the model coefficients\n",
    "\n",
    "Low λ: More complex model, higher risk of overfitting.\n",
    "\n",
    "High λ: Simpler model, reduced risk of overfitting, but may lead to underfitting if too large.\n",
    "\n",
    "Regularization helps balance the trade-off between bias and variance, leading to better generalization on new data.\n",
    "\"\"\""
   ]
  },
  {
   "cell_type": "markdown",
   "id": "ea6a3fbc-ce7a-408b-9cd7-179bd9bcc847",
   "metadata": {},
   "source": [
    "Q9.What are the key assumptions of Logistic Regression"
   ]
  },
  {
   "cell_type": "code",
   "execution_count": 165,
   "id": "60836fce-1ce4-4645-b23e-bb7239ab0fff",
   "metadata": {},
   "outputs": [
    {
     "data": {
      "text/plain": [
       "\"\\nLinearity of Independent Variables and Log Odds: Logistic Regression assumes a linear relationship between \\nthe independent variables and the log odds of the dependent variable.\\n\\nIndependence of Errors: The observations should be independent of each other. In other words,\\nthe error terms should not be correlated.\\n\\nNo Multicollinearity: The independent variables should not be highly correlated with each other.\\nMulticollinearity can lead to unreliable estimates of coefficients.\\n\\nLarge Sample Size: Logistic Regression requires a large sample size to provide reliable estimates.\\nIt works best with a sufficient amount of data.\\n\\nBinary Outcome: The dependent variable should be binary (e.g., 0 or 1, Yes or No).\\n\\nAbsence of Outliers: Outliers can have a significant impact on the model's performance.\\nIt's important to handle or remove outliers before fitting the model.\\n\""
      ]
     },
     "execution_count": 165,
     "metadata": {},
     "output_type": "execute_result"
    }
   ],
   "source": [
    "\"\"\"\n",
    "Linearity of Independent Variables and Log Odds: Logistic Regression assumes a linear relationship between \n",
    "the independent variables and the log odds of the dependent variable.\n",
    "\n",
    "Independence of Errors: The observations should be independent of each other. In other words,\n",
    "the error terms should not be correlated.\n",
    "\n",
    "No Multicollinearity: The independent variables should not be highly correlated with each other.\n",
    "Multicollinearity can lead to unreliable estimates of coefficients.\n",
    "\n",
    "Large Sample Size: Logistic Regression requires a large sample size to provide reliable estimates.\n",
    "It works best with a sufficient amount of data.\n",
    "\n",
    "Binary Outcome: The dependent variable should be binary (e.g., 0 or 1, Yes or No).\n",
    "\n",
    "Absence of Outliers: Outliers can have a significant impact on the model's performance.\n",
    "It's important to handle or remove outliers before fitting the model.\n",
    "\"\"\""
   ]
  },
  {
   "cell_type": "markdown",
   "id": "11ccf9c8-d6d6-4654-8527-117a97dad305",
   "metadata": {},
   "source": [
    "Q10. What are some alternatives to Logistic Regression for classification tasks"
   ]
  },
  {
   "cell_type": "code",
   "execution_count": 167,
   "id": "758f2fde-3dcf-408f-8f6e-4a26845ee636",
   "metadata": {},
   "outputs": [
    {
     "data": {
      "text/plain": [
       "\"Decision Trees: Simple to understand and interpret. They partition data into subsets based on feature values, making decisions based on learned rules.\\n\\nRandom Forests: An ensemble of decision trees that improves accuracy and reduces overfitting by averaging multiple trees.\\n\\nSupport Vector Machines (SVM): Finds the optimal hyperplane that maximizes the margin between different classes. Good for high-dimensional spaces.\\n\\nK-Nearest Neighbors (KNN): Classifies a data point based on the majority class among its k-nearest neighbors.\\n\\nNaive Bayes: Based on Bayes' theorem, this classifier assumes independence between features and works well with small datasets.\\n\\nGradient Boosting Machines (GBM): An ensemble method that builds trees sequentially, each trying to correct the errors of the previous one. Examples include XGBoost and LightGBM.\""
      ]
     },
     "execution_count": 167,
     "metadata": {},
     "output_type": "execute_result"
    }
   ],
   "source": [
    "\"\"\"Decision Trees: Simple to understand and interpret. They partition data into subsets based on feature values, making decisions based on learned rules.\n",
    "\n",
    "Random Forests: An ensemble of decision trees that improves accuracy and reduces overfitting by averaging multiple trees.\n",
    "\n",
    "Support Vector Machines (SVM): Finds the optimal hyperplane that maximizes the margin between different classes. Good for high-dimensional spaces.\n",
    "\n",
    "K-Nearest Neighbors (KNN): Classifies a data point based on the majority class among its k-nearest neighbors.\n",
    "\n",
    "Naive Bayes: Based on Bayes' theorem, this classifier assumes independence between features and works well with small datasets.\n",
    "\n",
    "Gradient Boosting Machines (GBM): An ensemble method that builds trees sequentially, each trying to correct the errors of the previous one. Examples include XGBoost and LightGBM.\"\"\""
   ]
  },
  {
   "cell_type": "markdown",
   "id": "affca50b-579e-412b-a180-6313f80918c0",
   "metadata": {},
   "source": [
    " Q.11 What are Classification Evaluation Metrics"
   ]
  },
  {
   "cell_type": "code",
   "execution_count": 169,
   "id": "102674bf-a0cc-48b7-a9c9-05e44c8c2be7",
   "metadata": {},
   "outputs": [
    {
     "data": {
      "text/plain": [
       "'\\nClassification evaluation metrics are used to assess the performance\\nof a classification model.\\nThese metrics help in understanding the strengths and weaknesses of a \\nclassification model and guide improvements in model performance.'"
      ]
     },
     "execution_count": 169,
     "metadata": {},
     "output_type": "execute_result"
    }
   ],
   "source": [
    "\"\"\"\n",
    "Classification evaluation metrics are used to assess the performance\n",
    "of a classification model.\n",
    "These metrics help in understanding the strengths and weaknesses of a \n",
    "classification model and guide improvements in model performance.\"\"\""
   ]
  },
  {
   "cell_type": "markdown",
   "id": "c7d6cf40-54d7-428f-9fcf-4ea52f5cb3bc",
   "metadata": {},
   "source": [
    "Q.12 How does class imbalance affect Logistic Regression"
   ]
  },
  {
   "cell_type": "code",
   "execution_count": 171,
   "id": "8bda2210-eb7b-43ce-a33f-49f8114471ac",
   "metadata": {},
   "outputs": [
    {
     "data": {
      "text/plain": [
       "'Class imbalance affects Logistic Regression by making it biased towards the majority class,\\nresulting in lower precision and recall for the minority class. It can also lead to misleading \\naccuracy and a skewed decision boundary.\\n\\nIn short, Logistic Regression might not perform well on imbalanced datasets without applying techniques\\nlike oversampling the minority class, undersampling the majority class, or using class weights.\\n'"
      ]
     },
     "execution_count": 171,
     "metadata": {},
     "output_type": "execute_result"
    }
   ],
   "source": [
    "\"\"\"Class imbalance affects Logistic Regression by making it biased towards the majority class,\n",
    "resulting in lower precision and recall for the minority class. It can also lead to misleading \n",
    "accuracy and a skewed decision boundary.\n",
    "\n",
    "In short, Logistic Regression might not perform well on imbalanced datasets without applying techniques\n",
    "like oversampling the minority class, undersampling the majority class, or using class weights.\n",
    "\"\"\""
   ]
  },
  {
   "cell_type": "markdown",
   "id": "8242d343-e4bf-4386-8d0f-b06c613ad001",
   "metadata": {},
   "source": [
    "Q13.  What is Hyperparameter Tuning in Logistic Regression"
   ]
  },
  {
   "cell_type": "code",
   "execution_count": 173,
   "id": "b4ee4e44-5f09-4f76-9188-a4949ec67800",
   "metadata": {},
   "outputs": [
    {
     "data": {
      "text/plain": [
       "\"\\nHyperparameter tuning in Logistic Regression involves adjusting the model's hyperparameters to improve its performance.\\nKey hyperparameters to tune include:\\n\\nRegularization Parameter (C): Controls the trade-off between fitting the training data and keeping\\nthe model simple (smaller C means stronger regularization).\\n\\nRegularization Type (L1 or L2): Determines the type of regularization applied (L1 can lead to sparse \\nmodels, while L2 tends to keep all features).\""
      ]
     },
     "execution_count": 173,
     "metadata": {},
     "output_type": "execute_result"
    }
   ],
   "source": [
    "\"\"\"\n",
    "Hyperparameter tuning in Logistic Regression involves adjusting the model's hyperparameters to improve its performance.\n",
    "Key hyperparameters to tune include:\n",
    "\n",
    "Regularization Parameter (C): Controls the trade-off between fitting the training data and keeping\n",
    "the model simple (smaller C means stronger regularization).\n",
    "\n",
    "Regularization Type (L1 or L2): Determines the type of regularization applied (L1 can lead to sparse \n",
    "models, while L2 tends to keep all features).\"\"\""
   ]
  },
  {
   "cell_type": "markdown",
   "id": "01288933-96c7-4e4d-8451-5e9b3137a465",
   "metadata": {},
   "source": [
    "Q14.  What are different solvers in Logistic Regression? Which one should be used"
   ]
  },
  {
   "cell_type": "code",
   "execution_count": 175,
   "id": "f6d0faa5-2812-4886-945c-630ce333d113",
   "metadata": {},
   "outputs": [
    {
     "data": {
      "text/plain": [
       "\"\\nsome common solvers used in Logistic Regression:\\n\\nliblinear: Good for small datasets; it uses a coordinate descent algorithm.\\nnewton-cg: Suitable for large datasets; uses Newton's method for optimization.\\nlbfgs: Handles large datasets and is efficient for multiclass problems; it's a quasi-Newton method.\\nsag: Stochastic Average Gradient Descent; faster for large datasets.\\nsaga: Similar to SAG but also supports L1 regularization.\\n\\nWhich one to use:\\n\\nFor smaller datasets, liblinear is a good choice.\\nFor larger datasets, lbfgs, newton-cg, or sag are recommended.\\nFor both large datasets and L1 regularization, saga is a good option.\""
      ]
     },
     "execution_count": 175,
     "metadata": {},
     "output_type": "execute_result"
    }
   ],
   "source": [
    "\"\"\"\n",
    "some common solvers used in Logistic Regression:\n",
    "\n",
    "liblinear: Good for small datasets; it uses a coordinate descent algorithm.\n",
    "newton-cg: Suitable for large datasets; uses Newton's method for optimization.\n",
    "lbfgs: Handles large datasets and is efficient for multiclass problems; it's a quasi-Newton method.\n",
    "sag: Stochastic Average Gradient Descent; faster for large datasets.\n",
    "saga: Similar to SAG but also supports L1 regularization.\n",
    "\n",
    "Which one to use:\n",
    "\n",
    "For smaller datasets, liblinear is a good choice.\n",
    "For larger datasets, lbfgs, newton-cg, or sag are recommended.\n",
    "For both large datasets and L1 regularization, saga is a good option.\"\"\""
   ]
  },
  {
   "cell_type": "markdown",
   "id": "4d0eb099-3c71-4946-8662-813a5a56a3f8",
   "metadata": {},
   "source": [
    "Q15.  How is Logistic Regression extended for multiclass classification"
   ]
  },
  {
   "cell_type": "code",
   "execution_count": 177,
   "id": "de130fba-dd61-4890-9e4c-01541602bebc",
   "metadata": {},
   "outputs": [
    {
     "data": {
      "text/plain": [
       "\"\\nLogistic Regression can be extended for multiclass classification using the following approaches:\\n\\nOne-vs-Rest (OvR): The model is trained to separate each class from the rest. \\nIt creates one binary classifier per class.\\n\\nOne-vs-One (OvO): The model is trained on all possible pairs of classes,\\ncreating one binary classifier for each pair.\\n\\nThe most common method is One-vs-Rest (OvR), as it's simpler and scales well with the number of classes.\""
      ]
     },
     "execution_count": 177,
     "metadata": {},
     "output_type": "execute_result"
    }
   ],
   "source": [
    "\"\"\"\n",
    "Logistic Regression can be extended for multiclass classification using the following approaches:\n",
    "\n",
    "One-vs-Rest (OvR): The model is trained to separate each class from the rest. \n",
    "It creates one binary classifier per class.\n",
    "\n",
    "One-vs-One (OvO): The model is trained on all possible pairs of classes,\n",
    "creating one binary classifier for each pair.\n",
    "\n",
    "The most common method is One-vs-Rest (OvR), as it's simpler and scales well with the number of classes.\"\"\""
   ]
  },
  {
   "cell_type": "markdown",
   "id": "ca9743aa-c9b2-47c8-83c9-6561d1bd17ae",
   "metadata": {},
   "source": [
    " Q.16 What are the advantages and disadvantages of Logistic Regression"
   ]
  },
  {
   "cell_type": "code",
   "execution_count": 179,
   "id": "01713800-5686-44a1-a581-3441eca1f97f",
   "metadata": {},
   "outputs": [
    {
     "data": {
      "text/plain": [
       "'\\nAdvantages:\\n\\nSimplicity: Easy to implement and interpret.\\n\\nEfficiency: Fast to train and works well with large datasets.\\n\\nProbabilistic Output: Provides probability scores for observations.\\n\\nDisadvantages:\\n\\nLinear Decision Boundary: Assumes a linear relationship between features and the log-odds.\\n\\nNot Suitable for Complex Relationships: Struggles with non-linear data without transformations.\\n\\nSensitive to Imbalanced Data: Performance can be heavily affected by class imbalance.'"
      ]
     },
     "execution_count": 179,
     "metadata": {},
     "output_type": "execute_result"
    }
   ],
   "source": [
    "\"\"\"\n",
    "Advantages:\n",
    "\n",
    "Simplicity: Easy to implement and interpret.\n",
    "\n",
    "Efficiency: Fast to train and works well with large datasets.\n",
    "\n",
    "Probabilistic Output: Provides probability scores for observations.\n",
    "\n",
    "Disadvantages:\n",
    "\n",
    "Linear Decision Boundary: Assumes a linear relationship between features and the log-odds.\n",
    "\n",
    "Not Suitable for Complex Relationships: Struggles with non-linear data without transformations.\n",
    "\n",
    "Sensitive to Imbalanced Data: Performance can be heavily affected by class imbalance.\"\"\""
   ]
  },
  {
   "cell_type": "markdown",
   "id": "18efebb2-560d-45b6-95d5-a4e772e8f7d2",
   "metadata": {},
   "source": [
    " Q.17 What are some use cases of Logistic Regression"
   ]
  },
  {
   "cell_type": "code",
   "execution_count": 181,
   "id": "abddef56-7091-4d3b-9728-42596f371e89",
   "metadata": {},
   "outputs": [
    {
     "data": {
      "text/plain": [
       "'\\nUse Cases of Logistic Regression:\\n\\nBinary Classification: Spam detection, disease diagnosis, etc.\\n\\nCredit Scoring: Assessing the likelihood of a borrower defaulting.\\n\\nMarketing Campaigns: Predicting customer responses to marketing efforts.'"
      ]
     },
     "execution_count": 181,
     "metadata": {},
     "output_type": "execute_result"
    }
   ],
   "source": [
    "\"\"\"\n",
    "Use Cases of Logistic Regression:\n",
    "\n",
    "Binary Classification: Spam detection, disease diagnosis, etc.\n",
    "\n",
    "Credit Scoring: Assessing the likelihood of a borrower defaulting.\n",
    "\n",
    "Marketing Campaigns: Predicting customer responses to marketing efforts.\"\"\""
   ]
  },
  {
   "cell_type": "markdown",
   "id": "b5a4bb46-ade9-49be-9c4b-43843a452d28",
   "metadata": {},
   "source": [
    " Q.18 What is the difference between Softmax Regression and Logistic Regression"
   ]
  },
  {
   "cell_type": "code",
   "execution_count": 183,
   "id": "2768a70d-bb5f-4a7e-97e9-fe32520a1f1a",
   "metadata": {},
   "outputs": [
    {
     "data": {
      "text/plain": [
       "'\\nDifference Between Softmax Regression and Logistic Regression\\nLogistic Regression: Used for binary classification. It outputs probabilities for two classes.\\n\\nSoftmax Regression: Used for multiclass classification. It outputs probabilities for multiple classes,\\nensuring the sum of probabilities for all classes equals 1.'"
      ]
     },
     "execution_count": 183,
     "metadata": {},
     "output_type": "execute_result"
    }
   ],
   "source": [
    "\"\"\"\n",
    "Difference Between Softmax Regression and Logistic Regression\n",
    "Logistic Regression: Used for binary classification. It outputs probabilities for two classes.\n",
    "\n",
    "Softmax Regression: Used for multiclass classification. It outputs probabilities for multiple classes,\n",
    "ensuring the sum of probabilities for all classes equals 1.\"\"\""
   ]
  },
  {
   "cell_type": "markdown",
   "id": "8d9c2eba-b776-4afd-9d5c-e07e89053667",
   "metadata": {},
   "source": [
    " Q.19 How do we choose between One-vs-Rest (OvR) and Softmax for multiclass classification"
   ]
  },
  {
   "cell_type": "code",
   "execution_count": 185,
   "id": "64d14998-652a-40ab-a230-03026f110e0b",
   "metadata": {},
   "outputs": [
    {
     "data": {
      "text/plain": [
       "'\\nChoosing Between One-vs-Rest (OvR) and Softmax for Multiclass Classification:\\n\\nOne-vs-Rest (OvR): Simpler and works well for most multiclass problems.\\n\\nSoftmax: Preferred when the model is needed to consider the relationship between multiple \\nclasses simultaneously.'"
      ]
     },
     "execution_count": 185,
     "metadata": {},
     "output_type": "execute_result"
    }
   ],
   "source": [
    "\"\"\"\n",
    "Choosing Between One-vs-Rest (OvR) and Softmax for Multiclass Classification:\n",
    "\n",
    "One-vs-Rest (OvR): Simpler and works well for most multiclass problems.\n",
    "\n",
    "Softmax: Preferred when the model is needed to consider the relationship between multiple \n",
    "classes simultaneously.\"\"\""
   ]
  },
  {
   "cell_type": "markdown",
   "id": "528dfd60-88a6-413b-b6a4-1b3771bab992",
   "metadata": {},
   "source": [
    " Q.20 How do we interpret coefficients in Logistic Regression?"
   ]
  },
  {
   "cell_type": "code",
   "execution_count": 187,
   "id": "edda0521-01fa-4bfa-941e-e7dc7185f84b",
   "metadata": {},
   "outputs": [
    {
     "data": {
      "text/plain": [
       "'\\nInterpreting Coefficients in Logistic Regression:\\n\\nCoefficients (β): Represent the change in the log-odds of the outcome for a one-unit increase in the predictor variable.\\n\\nExponential of Coefficients: \\n𝑒^𝛽 represents the odds ratio, which indicates how much the odds of the outcome increase (if >1) or decrease (if <1) with a one-unit increase in the predictor.'"
      ]
     },
     "execution_count": 187,
     "metadata": {},
     "output_type": "execute_result"
    }
   ],
   "source": [
    "\"\"\"\n",
    "Interpreting Coefficients in Logistic Regression:\n",
    "\n",
    "Coefficients (β): Represent the change in the log-odds of the outcome for a one-unit increase in the predictor variable.\n",
    "\n",
    "Exponential of Coefficients: \n",
    "𝑒^𝛽 represents the odds ratio, which indicates how much the odds of the outcome increase (if >1) or decrease (if <1) with a one-unit increase in the predictor.\"\"\""
   ]
  },
  {
   "cell_type": "code",
   "execution_count": null,
   "id": "7a8afe16-2666-4b0f-8355-260803503a53",
   "metadata": {},
   "outputs": [],
   "source": []
  },
  {
   "cell_type": "code",
   "execution_count": null,
   "id": "91778c93-668b-464d-8ec2-7d436a184d47",
   "metadata": {},
   "outputs": [],
   "source": []
  },
  {
   "cell_type": "markdown",
   "id": "36a69989-48cf-419e-8db1-9ba3e0de8816",
   "metadata": {},
   "source": [
    "## Practical Question "
   ]
  },
  {
   "cell_type": "markdown",
   "id": "ca97eb47-69bd-4bb8-b537-c8291ff3e392",
   "metadata": {},
   "source": [
    " Q1. Write a Python program that loads a dataset, splits it into training and testing sets, applies Logistic \n",
    "Regression, and prints the model accuracy"
   ]
  },
  {
   "cell_type": "code",
   "execution_count": 190,
   "id": "d1d90748-882c-451a-a81c-6c2aa5841817",
   "metadata": {},
   "outputs": [
    {
     "name": "stdout",
     "output_type": "stream",
     "text": [
      "Logistic Regression Model Accuracy: 1.0\n"
     ]
    }
   ],
   "source": [
    "import pandas as pd\n",
    "from sklearn.datasets import load_iris\n",
    "from sklearn.model_selection import train_test_split, GridSearchCV, RandomizedSearchCV, StratifiedKFold, cross_val_score\n",
    "from sklearn.linear_model import LogisticRegression\n",
    "from sklearn.metrics import accuracy_score, precision_score, recall_score, f1_score, confusion_matrix, classification_report\n",
    "from sklearn.preprocessing import StandardScaler\n",
    "from sklearn.utils import resample\n",
    "import warnings\n",
    "warnings.filterwarnings('ignore')\n",
    "\n",
    "iris = load_iris()\n",
    "X = iris.data\n",
    "y = iris.target\n",
    "\n",
    "X_train, X_test, y_train, y_test = train_test_split(X, y, test_size=0.2, random_state=42)\n",
    "\n",
    "log_reg = LogisticRegression(max_iter=200)\n",
    "log_reg.fit(X_train, y_train)\n",
    "\n",
    "y_pred = log_reg.predict(X_test)\n",
    "accuracy = accuracy_score(y_test, y_pred)\n",
    "print(f'Logistic Regression Model Accuracy: {accuracy}')\n"
   ]
  },
  {
   "cell_type": "markdown",
   "id": "da66d0f0-1677-43da-bc9c-79d27677445f",
   "metadata": {},
   "source": [
    " Q2. Write a Python program to apply L1 regularization (Lasso) on a dataset using LogisticRegression(penalty='l1') \n",
    "and print the model accuracy"
   ]
  },
  {
   "cell_type": "code",
   "execution_count": 192,
   "id": "6454da7d-9f58-4445-bfc6-cd651c0202f5",
   "metadata": {},
   "outputs": [
    {
     "name": "stdout",
     "output_type": "stream",
     "text": [
      "L1 Regularized (Lasso) Logistic Regression Model Accuracy: 1.0\n"
     ]
    }
   ],
   "source": [
    "\n",
    "iris = load_iris()\n",
    "X = iris.data\n",
    "y = iris.target\n",
    "\n",
    "X_train, X_test, y_train, y_test = train_test_split(X, y, test_size=0.2, random_state=42)\n",
    "\n",
    "log_reg_l1 = LogisticRegression(penalty='l1', solver='liblinear', max_iter=200)\n",
    "log_reg_l1.fit(X_train, y_train)\n",
    "\n",
    "y_pred = log_reg_l1.predict(X_test)\n",
    "accuracy = accuracy_score(y_test, y_pred)\n",
    "print(f'L1 Regularized (Lasso) Logistic Regression Model Accuracy: {accuracy}')\n"
   ]
  },
  {
   "cell_type": "markdown",
   "id": "f8c42ad8-010d-4615-8039-851dc08aac33",
   "metadata": {},
   "source": [
    "Q3. Write a Python program to train Logistic Regression with L2 regularization (Ridge) using \n",
    "LogisticRegression(penalty='l2'). Print model accuracy and coefficients"
   ]
  },
  {
   "cell_type": "code",
   "execution_count": 194,
   "id": "154e61a8-8aea-47a8-bf3e-996709273819",
   "metadata": {},
   "outputs": [
    {
     "name": "stdout",
     "output_type": "stream",
     "text": [
      "L2 Regularized (Ridge) Logistic Regression Model Accuracy: 1.0\n",
      "Model Coefficients: [[ 0.3711229   1.409712   -2.15210117 -0.95474179]\n",
      " [ 0.49400451 -1.58897112  0.43717015 -1.11187838]\n",
      " [-1.55895271 -1.58893375  2.39874554  2.15556209]]\n"
     ]
    }
   ],
   "source": [
    "iris = load_iris()\n",
    "X = iris.data\n",
    "y = iris.target\n",
    "\n",
    "X_train, X_test, y_train, y_test = train_test_split(X, y, test_size=0.2, random_state=42)\n",
    "\n",
    "log_reg_l2 = LogisticRegression(penalty='l2', solver='liblinear', max_iter=200)\n",
    "log_reg_l2.fit(X_train, y_train)\n",
    "\n",
    "y_pred = log_reg_l2.predict(X_test)\n",
    "accuracy = accuracy_score(y_test, y_pred)\n",
    "coefficients = log_reg_l2.coef_\n",
    "print(f'L2 Regularized (Ridge) Logistic Regression Model Accuracy: {accuracy}')\n",
    "print(f'Model Coefficients: {coefficients}')\n"
   ]
  },
  {
   "cell_type": "markdown",
   "id": "3fe29647-5aeb-485d-9d33-00260d921ebb",
   "metadata": {},
   "source": [
    "Q4. Write a Python program to train Logistic Regression with Elastic Net Regularization (penalty='elasticnet')"
   ]
  },
  {
   "cell_type": "code",
   "execution_count": 196,
   "id": "80445e13-b67b-4a59-b1ee-630a347ed1ea",
   "metadata": {},
   "outputs": [
    {
     "name": "stdout",
     "output_type": "stream",
     "text": [
      "Elastic Net Regularized Logistic Regression Model Accuracy: 1.0\n"
     ]
    }
   ],
   "source": [
    "\n",
    "log_reg_en = LogisticRegression(penalty='elasticnet', solver='saga', l1_ratio=0.5, max_iter=200)\n",
    "log_reg_en.fit(X_train, y_train)\n",
    "y_pred_en = log_reg_en.predict(X_test)\n",
    "accuracy_en = accuracy_score(y_test, y_pred_en)\n",
    "print(f'Elastic Net Regularized Logistic Regression Model Accuracy: {accuracy_en}')"
   ]
  },
  {
   "cell_type": "markdown",
   "id": "0ea64218-89b5-4cdc-bf08-48daeb9549ba",
   "metadata": {},
   "source": [
    "Q5. Write a Python program to train a Logistic Regression model for multiclass classification using \n",
    "multi_class='ovr'"
   ]
  },
  {
   "cell_type": "code",
   "execution_count": 198,
   "id": "7fe9801b-592e-4ab6-9d52-651b1347158e",
   "metadata": {},
   "outputs": [
    {
     "name": "stdout",
     "output_type": "stream",
     "text": [
      "Multiclass (OvR) Logistic Regression Model Accuracy: 0.9666666666666667\n"
     ]
    }
   ],
   "source": [
    "\n",
    "log_reg_ovr = LogisticRegression(multi_class='ovr', max_iter=200)\n",
    "log_reg_ovr.fit(X_train, y_train)\n",
    "y_pred_ovr = log_reg_ovr.predict(X_test)\n",
    "accuracy_ovr = accuracy_score(y_test, y_pred_ovr)\n",
    "print(f'Multiclass (OvR) Logistic Regression Model Accuracy: {accuracy_ovr}')"
   ]
  },
  {
   "cell_type": "markdown",
   "id": "37f33cf8-12d4-4e50-b494-c518bdc45014",
   "metadata": {},
   "source": [
    " Q6. Write a Python program to apply GridSearchCV to tune the hyperparameters (C and penalty) of Logistic Regression. Print the best parameters and accuracy"
   ]
  },
  {
   "cell_type": "code",
   "execution_count": 200,
   "id": "be780a48-9c0a-424c-a3fd-dd0d481c0c51",
   "metadata": {},
   "outputs": [
    {
     "name": "stdout",
     "output_type": "stream",
     "text": [
      "Best Parameters: {'C': 10, 'penalty': 'l1', 'solver': 'liblinear'}\n",
      "GridSearchCV Logistic Regression Model Accuracy: 1.0\n"
     ]
    }
   ],
   "source": [
    "\n",
    "param_grid = {'C': [0.1, 1, 10], 'penalty': ['l1', 'l2'], 'solver': ['liblinear']}\n",
    "grid_search = GridSearchCV(LogisticRegression(max_iter=200), param_grid, cv=5)\n",
    "grid_search.fit(X_train, y_train)\n",
    "best_params = grid_search.best_params_\n",
    "best_estimator = grid_search.best_estimator_\n",
    "y_pred_gs = best_estimator.predict(X_test)\n",
    "accuracy_gs = accuracy_score(y_test, y_pred_gs)\n",
    "print(f'Best Parameters: {best_params}')\n",
    "print(f'GridSearchCV Logistic Regression Model Accuracy: {accuracy_gs}')"
   ]
  },
  {
   "cell_type": "markdown",
   "id": "777bfd74-5a86-4c3b-8619-4f5a5bc390dd",
   "metadata": {},
   "source": [
    " Q7. Write a Python program to evaluate Logistic Regression using Stratified K-Fold Cross-Validation. Print the \n",
    "average accuracy"
   ]
  },
  {
   "cell_type": "code",
   "execution_count": 202,
   "id": "1a2c8834-10c6-4280-aaa2-8d2892cac5ba",
   "metadata": {},
   "outputs": [
    {
     "name": "stdout",
     "output_type": "stream",
     "text": [
      "Stratified K-Fold Cross-Validation Average Accuracy: 0.9666666666666666\n"
     ]
    }
   ],
   "source": [
    "\n",
    "skf = StratifiedKFold(n_splits=5)\n",
    "log_reg_cv = LogisticRegression(max_iter=200)\n",
    "cv_scores = cross_val_score(log_reg_cv, X_train, y_train, cv=skf)\n",
    "average_accuracy = cv_scores.mean()\n",
    "print(f'Stratified K-Fold Cross-Validation Average Accuracy: {average_accuracy}')"
   ]
  },
  {
   "cell_type": "markdown",
   "id": "1c85b706-9325-4cb0-a43d-3d0bf2863f1f",
   "metadata": {},
   "source": [
    " Q8. Write a Python program to load a dataset from a CSV file, apply Logistic Regression, and evaluate its \n",
    "accuracy"
   ]
  },
  {
   "cell_type": "code",
   "execution_count": 204,
   "id": "5a3aa3a7-4dd5-4d5b-9712-abfba0dfdc2d",
   "metadata": {},
   "outputs": [
    {
     "name": "stdout",
     "output_type": "stream",
     "text": [
      "CSV Dataset Logistic Regression Model Accuracy: 1.0\n"
     ]
    }
   ],
   "source": [
    "iris = load_iris()\n",
    "df = pd.DataFrame(data=iris.data, columns=iris.feature_names)\n",
    "df['target'] = iris.target\n",
    "df.to_csv('iris_dataset.csv', index=False)\n",
    "\n",
    "df = pd.read_csv('iris_dataset.csv')\n",
    "X = df.drop('target', axis=1)\n",
    "y = df['target']\n",
    "\n",
    "X_train, X_test, y_train, y_test = train_test_split(X, y, test_size=0.2, random_state=42)\n",
    "df = pd.read_csv('iris_dataset.csv')\n",
    "X_csv = df.drop('target', axis=1)\n",
    "y_csv = df['target']\n",
    "X_train_csv, X_test_csv, y_train_csv, y_test_csv = train_test_split(X_csv, y_csv, test_size=0.2, random_state=42)\n",
    "log_reg_csv = LogisticRegression(max_iter=1000)\n",
    "log_reg_csv.fit(X_train_csv, y_train_csv)\n",
    "y_pred_csv = log_reg_csv.predict(X_test_csv)\n",
    "accuracy_csv = accuracy_score(y_test_csv, y_pred_csv)\n",
    "print(f'CSV Dataset Logistic Regression Model Accuracy: {accuracy_csv}')"
   ]
  },
  {
   "cell_type": "markdown",
   "id": "705472df-f30d-4c65-be6c-93593e4d18e1",
   "metadata": {},
   "source": [
    "Q9. Write a Python program to apply RandomizedSearchCV for tuning hyperparameters (C, penalty, solver) in \n",
    "Logistic Regression. Print the best parameters and accuracy"
   ]
  },
  {
   "cell_type": "code",
   "execution_count": 206,
   "id": "dc0c1ab7-667b-4dcf-9dd3-2245aed8307a",
   "metadata": {},
   "outputs": [
    {
     "name": "stdout",
     "output_type": "stream",
     "text": [
      "Best Parameters: {'solver': 'saga', 'penalty': 'l2', 'C': 10}\n",
      "RandomizedSearchCV Logistic Regression Model Accuracy: 1.0\n"
     ]
    }
   ],
   "source": [
    "from sklearn.preprocessing import StandardScaler\n",
    "from sklearn.utils import resample\n",
    "\n",
    "param_grid = {'C': [0.1, 1, 10], 'penalty': ['l1', 'l2', 'elasticnet'], 'solver': ['liblinear', 'saga']}\n",
    "random_search = RandomizedSearchCV(LogisticRegression(max_iter=1000), param_grid, n_iter=10, cv=5, random_state=42)\n",
    "random_search.fit(X_train, y_train)\n",
    "best_params = random_search.best_params_\n",
    "best_estimator = random_search.best_estimator_\n",
    "y_pred_rs = best_estimator.predict(X_test)\n",
    "accuracy_rs = accuracy_score(y_test, y_pred_rs)\n",
    "print(f'Best Parameters: {best_params}')\n",
    "print(f'RandomizedSearchCV Logistic Regression Model Accuracy: {accuracy_rs}')\n"
   ]
  },
  {
   "cell_type": "markdown",
   "id": "a924995b-94fc-4b04-9630-03c5bb612491",
   "metadata": {},
   "source": [
    "Q10. Write a Python program to implement One-vs-One (OvO) Multiclass Logistic Regression and print accuracy"
   ]
  },
  {
   "cell_type": "code",
   "execution_count": 208,
   "id": "ed62ecb3-7458-422c-9550-afe53ebd23bb",
   "metadata": {},
   "outputs": [
    {
     "name": "stdout",
     "output_type": "stream",
     "text": [
      "Multiclass (OvR) Logistic Regression Model Accuracy: 0.9666666666666667\n"
     ]
    }
   ],
   "source": [
    "\n",
    "log_reg_ovr = LogisticRegression(multi_class='ovr', max_iter=1000)\n",
    "log_reg_ovr.fit(X_train, y_train)\n",
    "y_pred_ovr = log_reg_ovr.predict(X_test)\n",
    "accuracy_ovr = accuracy_score(y_test, y_pred_ovr)\n",
    "print(f'Multiclass (OvR) Logistic Regression Model Accuracy: {accuracy_ovr}')"
   ]
  },
  {
   "cell_type": "markdown",
   "id": "791b420a-3b0e-4cea-affe-dcd765983df6",
   "metadata": {},
   "source": [
    "Q11. Write a Python program to train a Logistic Regression model and visualize the confusion matrix for binary \n",
    "classification"
   ]
  },
  {
   "cell_type": "code",
   "execution_count": 210,
   "id": "b281fe57-a4f8-4393-b8c6-5890d3f602ff",
   "metadata": {},
   "outputs": [
    {
     "name": "stdout",
     "output_type": "stream",
     "text": [
      "Best Parameters: {'solver': 'saga', 'penalty': 'l2', 'C': 10}\n",
      "RandomizedSearchCV Logistic Regression Model Accuracy: 1.0\n"
     ]
    }
   ],
   "source": [
    "\n",
    "param_grid = {'C': [0.1, 1, 10], 'penalty': ['l1', 'l2', 'elasticnet'], 'solver': ['liblinear', 'saga']}\n",
    "random_search = RandomizedSearchCV(LogisticRegression(max_iter=1000), param_grid, n_iter=10, cv=5, random_state=42)\n",
    "random_search.fit(X_train, y_train)\n",
    "best_params = random_search.best_params_\n",
    "best_estimator = random_search.best_estimator_\n",
    "y_pred_rs = best_estimator.predict(X_test)\n",
    "accuracy_rs = accuracy_score(y_test, y_pred_rs)\n",
    "print(f'Best Parameters: {best_params}')\n",
    "print(f'RandomizedSearchCV Logistic Regression Model Accuracy: {accuracy_rs}')"
   ]
  },
  {
   "cell_type": "markdown",
   "id": "714cd8eb-05f9-4615-ad81-ea4734d7f699",
   "metadata": {},
   "source": [
    "Q12. Write a Python program to train a Logistic Regression model and evaluate its performance using Precision, \n",
    "Recall, and F1-Score"
   ]
  },
  {
   "cell_type": "code",
   "execution_count": 212,
   "id": "9c081813-a783-4b60-9ec1-60612beced6c",
   "metadata": {},
   "outputs": [
    {
     "name": "stdout",
     "output_type": "stream",
     "text": [
      "Precision: 0.91\n",
      "Recall: 0.80\n",
      "F1-Score: 0.86\n"
     ]
    }
   ],
   "source": [
    "import numpy as np\n",
    "import pandas as pd\n",
    "from sklearn.model_selection import train_test_split\n",
    "from sklearn.linear_model import LogisticRegression\n",
    "from sklearn.metrics import precision_score, recall_score, f1_score\n",
    "\n",
    "from sklearn.datasets import make_classification\n",
    "X, y = make_classification(n_samples=1000, n_features=20, n_classes=2, random_state=42)\n",
    "\n",
    "X_train, X_test, y_train, y_test = train_test_split(X, y, test_size=0.2, random_state=42)\n",
    "\n",
    "model = LogisticRegression(random_state=42)\n",
    "model.fit(X_train, y_train)\n",
    "\n",
    "y_pred = model.predict(X_test)\n",
    "\n",
    "precision = precision_score(y_test, y_pred)\n",
    "recall = recall_score(y_test, y_pred)\n",
    "f1 = f1_score(y_test, y_pred)\n",
    "\n",
    "print(f'Precision: {precision:.2f}')\n",
    "print(f'Recall: {recall:.2f}')\n",
    "print(f'F1-Score: {f1:.2f}')\n"
   ]
  },
  {
   "cell_type": "markdown",
   "id": "def096cb-dea5-4125-8bc3-854a0282c321",
   "metadata": {},
   "source": [
    "Q13. Write a Python program to train a Logistic Regression model on imbalanced data and apply class weights to \n",
    "improve model performance"
   ]
  },
  {
   "cell_type": "code",
   "execution_count": 214,
   "id": "009d08a4-ca07-4180-9618-a1496c183002",
   "metadata": {},
   "outputs": [
    {
     "name": "stdout",
     "output_type": "stream",
     "text": [
      "Imbalanced Data Logistic Regression Model Accuracy: 0.815\n"
     ]
    }
   ],
   "source": [
    "imbalanced_X_train, imbalanced_y_train = resample(X_train, y_train, n_samples=200, random_state=42, stratify=y_train)\n",
    "log_reg_imbalanced = LogisticRegression(class_weight='balanced', max_iter=1000)\n",
    "log_reg_imbalanced.fit(imbalanced_X_train, imbalanced_y_train)\n",
    "y_pred_imbalanced = log_reg_imbalanced.predict(X_test)\n",
    "accuracy_imbalanced = accuracy_score(y_test, y_pred_imbalanced)\n",
    "print(f'Imbalanced Data Logistic Regression Model Accuracy: {accuracy_imbalanced}')"
   ]
  },
  {
   "cell_type": "markdown",
   "id": "d387e38d-41d9-49d0-b429-7397928bbd92",
   "metadata": {},
   "source": [
    "Q14. Write a Python program to train Logistic Regression on the Titanic dataset, handle missing values, and \n",
    "evaluate performance"
   ]
  },
  {
   "cell_type": "code",
   "execution_count": 216,
   "id": "68487fdf-7bb8-44b8-9692-a51dc0b9d12a",
   "metadata": {},
   "outputs": [
    {
     "name": "stdout",
     "output_type": "stream",
     "text": [
      "Logistic Regression Model Accuracy: 0.8044692737430168\n",
      "Precision: 0.7746478873239436\n",
      "Recall: 0.7432432432432432\n",
      "F1-Score: 0.7586206896551724\n"
     ]
    }
   ],
   "source": [
    "\n",
    "df = pd.read_csv('https://raw.githubusercontent.com/chaitanya-0b10/Assignment-Logistic-Regreession-/refs/heads/main/train.csv')\n",
    "\n",
    "df['Age'].fillna(df['Age'].median(), inplace=True)\n",
    "df['Embarked'].fillna(df['Embarked'].mode()[0], inplace=True)\n",
    "df['Fare'].fillna(df['Fare'].median(), inplace=True)\n",
    "\n",
    "df = pd.get_dummies(df, columns=['Sex', 'Embarked'], drop_first=True)\n",
    "\n",
    "df.drop(['Name', 'Ticket', 'Cabin'], axis=1, inplace=True)\n",
    "\n",
    "X = df.drop('Survived', axis=1)\n",
    "y = df['Survived']\n",
    "\n",
    "X_train, X_test, y_train, y_test = train_test_split(X, y, test_size=0.2, random_state=42)\n",
    "\n",
    "scaler = StandardScaler()\n",
    "X_train_scaled = scaler.fit_transform(X_train)\n",
    "X_test_scaled = scaler.transform(X_test)\n",
    "\n",
    "log_reg = LogisticRegression(max_iter=1000)\n",
    "log_reg.fit(X_train_scaled, y_train)\n",
    "\n",
    "y_pred = log_reg.predict(X_test_scaled)\n",
    "accuracy = accuracy_score(y_test, y_pred)\n",
    "precision = precision_score(y_test, y_pred)\n",
    "recall = recall_score(y_test, y_pred)\n",
    "f1 = f1_score(y_test, y_pred)\n",
    "\n",
    "print(f'Logistic Regression Model Accuracy: {accuracy}')\n",
    "print(f'Precision: {precision}')\n",
    "print(f'Recall: {recall}')\n",
    "print(f'F1-Score: {f1}')\n"
   ]
  },
  {
   "cell_type": "markdown",
   "id": "9b308945-946d-4b93-b725-a945f32d9f6c",
   "metadata": {},
   "source": [
    "Q15. Write a Python program to apply feature scaling (Standardization) before training a Logistic Regression \n",
    "model. Evaluate its accuracy and compare results with and without scaling"
   ]
  },
  {
   "cell_type": "code",
   "execution_count": 218,
   "id": "a3e062ca-a3b4-4258-8e3f-ed46f189cece",
   "metadata": {},
   "outputs": [
    {
     "name": "stdout",
     "output_type": "stream",
     "text": [
      "Scaled Logistic Regression Model Accuracy: 0.8044692737430168\n"
     ]
    }
   ],
   "source": [
    "scaler = StandardScaler()\n",
    "X_train_scaled = scaler.fit_transform(X_train)\n",
    "X_test_scaled = scaler.transform(X_test)\n",
    "log_reg_scaled = LogisticRegression(max_iter=1000)\n",
    "log_reg_scaled.fit(X_train_scaled, y_train)\n",
    "y_pred_scaled = log_reg_scaled.predict(X_test_scaled)\n",
    "accuracy_scaled = accuracy_score(y_test, y_pred_scaled)\n",
    "print(f'Scaled Logistic Regression Model Accuracy: {accuracy_scaled}')"
   ]
  },
  {
   "cell_type": "markdown",
   "id": "2b1befe5-1bfc-4d1a-b1a3-dd33282c5923",
   "metadata": {},
   "source": [
    "Q16.  Write a Python program to train Logistic Regression and evaluate its performance using ROC-AUC score"
   ]
  },
  {
   "cell_type": "code",
   "execution_count": 220,
   "id": "97f2114d-5538-4f54-aebe-a655f22d41d8",
   "metadata": {},
   "outputs": [
    {
     "name": "stdout",
     "output_type": "stream",
     "text": [
      "ROC-AUC Score: 0.9976484420928865\n"
     ]
    },
    {
     "data": {
      "image/png": "[encoded data removed]",
      "text/plain": [
       "<Figure size 640x480 with 1 Axes>"
      ]
     },
     "metadata": {},
     "output_type": "display_data"
    }
   ],
   "source": [
    "from sklearn.model_selection import train_test_split\n",
    "from sklearn.linear_model import LogisticRegression\n",
    "from sklearn.datasets import load_breast_cancer\n",
    "from sklearn.metrics import roc_auc_score\n",
    "import matplotlib.pyplot as plt\n",
    "from sklearn.metrics import roc_curve\n",
    "\n",
    "data = load_breast_cancer()\n",
    "X = data.data\n",
    "y = data.target\n",
    "\n",
    "X_train, X_test, y_train, y_test = train_test_split(X, y, test_size=0.3, random_state=42)\n",
    "\n",
    "\n",
    "model = LogisticRegression(max_iter=10000)\n",
    "model.fit(X_train, y_train)\n",
    "\n",
    "y_probs = model.predict_proba(X_test)[:, 1]\n",
    "roc_auc = roc_auc_score(y_test, y_probs)\n",
    "print(f\"ROC-AUC Score: {roc_auc}\")\n",
    "\n",
    "fpr, tpr, thresholds = roc_curve(y_test, y_probs)\n",
    "plt.plot(fpr, tpr, color='b', label='ROC curve (area = %0.2f)' % roc_auc)\n",
    "plt.plot([0, 1], [0, 1], color='gray', linestyle='--')\n",
    "plt.xlabel('False Positive Rate')\n",
    "plt.ylabel('True Positive Rate')\n",
    "plt.title('ROC Curve')\n",
    "plt.legend(loc='lower right')\n",
    "plt.show()\n"
   ]
  },
  {
   "cell_type": "markdown",
   "id": "afde4101-afb3-444b-981f-e0c5fb02c329",
   "metadata": {},
   "source": [
    "Q17. Write a Python program to train Logistic Regression using a custom learning rate (C=0.5) and evaluate \n",
    "accuracy"
   ]
  },
  {
   "cell_type": "code",
   "execution_count": 222,
   "id": "e1c58277-3ba2-47c7-8853-2e472848e918",
   "metadata": {},
   "outputs": [
    {
     "name": "stdout",
     "output_type": "stream",
     "text": [
      "Accuracy: 0.9766081871345029\n"
     ]
    }
   ],
   "source": [
    "from sklearn.linear_model import LogisticRegression\n",
    "from sklearn.datasets import load_breast_cancer\n",
    "from sklearn.model_selection import train_test_split\n",
    "from sklearn.metrics import accuracy_score\n",
    "\n",
    "data = load_breast_cancer()\n",
    "X = data.data\n",
    "y = data.target\n",
    "\n",
    "X_train, X_test, y_train, y_test = train_test_split(X, y, test_size=0.3, random_state=42)\n",
    "\n",
    "model = LogisticRegression(C=0.5, max_iter=10000)\n",
    "model.fit(X_train, y_train)\n",
    "\n",
    "y_pred = model.predict(X_test)\n",
    "accuracy = accuracy_score(y_test, y_pred)\n",
    "print(f\"Accuracy: {accuracy}\")\n"
   ]
  },
  {
   "cell_type": "markdown",
   "id": "f396b2f6-b825-4f8a-876e-3426992a0e36",
   "metadata": {},
   "source": [
    "Q18. Write a Python program to train Logistic Regression and identify important features based on model \n",
    "coefficients"
   ]
  },
  {
   "cell_type": "code",
   "execution_count": 224,
   "id": "0eaf267d-a9ad-425e-a063-37f17d9088f4",
   "metadata": {},
   "outputs": [
    {
     "name": "stdout",
     "output_type": "stream",
     "text": [
      "Important features based on model coefficients:\n",
      "worst concavity: -1.4401587744520012\n",
      "texture error: 1.2354096544808437\n",
      "mean radius: 1.0016328790485955\n",
      "worst symmetry: -0.7347089381329279\n",
      "worst compactness: -0.6723172871076203\n",
      "worst concave points: -0.620546595942859\n",
      "mean concavity: -0.5430435393003425\n",
      "worst texture: -0.43602294502776917\n",
      "worst smoothness: -0.36897025011676704\n",
      "mean concave points: -0.30391708785385485\n",
      "mean perimeter: -0.27887770133408535\n",
      "mean symmetry: -0.2718454470027267\n",
      "mean compactness: -0.21625051884391752\n",
      "mean smoothness: -0.18377337094550358\n",
      "mean texture: 0.17919991508243013\n",
      "perimeter error: 0.14520862501386642\n",
      "worst radius: 0.14021728725344523\n",
      "area error: -0.11043214754034263\n",
      "worst perimeter: -0.10879383752819702\n",
      "worst fractal dimension: -0.09307493890395087\n",
      "radius error: -0.07862890552056011\n",
      "compactness error: 0.07556912613278263\n",
      "concave points error: -0.03931856547011623\n",
      "symmetry error: -0.03499984233077999\n",
      "concavity error: -0.03192580401054099\n",
      "mean fractal dimension: -0.02979774069872282\n",
      "smoothness error: -0.02662702370615321\n",
      "mean area: 0.02310955086813297\n",
      "fractal dimension error: 0.015318793008917192\n",
      "worst area: -0.013552389979891033\n"
     ]
    }
   ],
   "source": [
    "import numpy as np\n",
    "from sklearn.linear_model import LogisticRegression\n",
    "from sklearn.datasets import load_breast_cancer\n",
    "\n",
    "data = load_breast_cancer()\n",
    "X = data.data\n",
    "y = data.target\n",
    "\n",
    "model = LogisticRegression(max_iter=10000)\n",
    "model.fit(X, y)\n",
    "coefficients = model.coef_[0]\n",
    "feature_names = data.feature_names\n",
    "\n",
    "\n",
    "feature_importance = np.abs(coefficients)\n",
    "sorted_idx = np.argsort(feature_importance)[::-1]\n",
    "\n",
    "print(\"Important features based on model coefficients:\")\n",
    "for idx in sorted_idx:\n",
    "    print(f\"{feature_names[idx]}: {coefficients[idx]}\")\n"
   ]
  },
  {
   "cell_type": "markdown",
   "id": "70cc4519-b1d0-4caf-86ee-48936c3d131e",
   "metadata": {},
   "source": [
    "Q19. Write a Python program to train Logistic Regression and evaluate its performance using Cohen’s Kappa \n",
    "Score"
   ]
  },
  {
   "cell_type": "code",
   "execution_count": 226,
   "id": "59577625-cb0a-443b-b441-b1db09eb7074",
   "metadata": {},
   "outputs": [
    {
     "name": "stdout",
     "output_type": "stream",
     "text": [
      "Cohen's Kappa Score: 0.9497354497354498\n"
     ]
    }
   ],
   "source": [
    "from sklearn.linear_model import LogisticRegression\n",
    "from sklearn.datasets import load_breast_cancer\n",
    "from sklearn.model_selection import train_test_split\n",
    "from sklearn.metrics import cohen_kappa_score\n",
    "\n",
    "data = load_breast_cancer()\n",
    "X = data.data\n",
    "y = data.target\n",
    "\n",
    "X_train, X_test, y_train, y_test = train_test_split(X, y, test_size=0.3, random_state=42)\n",
    "\n",
    "model = LogisticRegression(max_iter=10000)\n",
    "model.fit(X_train, y_train)\n",
    "\n",
    "y_pred = model.predict(X_test)\n",
    "\n",
    "kappa_score = cohen_kappa_score(y_test, y_pred)\n",
    "print(f\"Cohen's Kappa Score: {kappa_score}\")\n"
   ]
  },
  {
   "cell_type": "markdown",
   "id": "fb86f0d1-eb84-4d42-beb5-cb10c0916a71",
   "metadata": {},
   "source": [
    "Q20. Write a Python program to train Logistic Regression and visualize the Precision-Recall Curve for binary \n",
    "classificatio"
   ]
  },
  {
   "cell_type": "code",
   "execution_count": 228,
   "id": "952fd752-14b7-4d35-8e50-471359d5c0bc",
   "metadata": {},
   "outputs": [
    {
     "data": {
      "image/png": "[encoded data removed]",
      "text/plain": [
       "<Figure size 640x480 with 1 Axes>"
      ]
     },
     "metadata": {},
     "output_type": "display_data"
    }
   ],
   "source": [
    "from sklearn.linear_model import LogisticRegression\n",
    "from sklearn.datasets import load_breast_cancer\n",
    "from sklearn.model_selection import train_test_split\n",
    "from sklearn.metrics import precision_recall_curve\n",
    "import matplotlib.pyplot as plt\n",
    "\n",
    "data = load_breast_cancer()\n",
    "X = data.data\n",
    "y = data.target\n",
    "\n",
    "X_train, X_test, y_train, y_test = train_test_split(X, y, test_size=0.3, random_state=42)\n",
    "\n",
    "model = LogisticRegression(max_iter=10000)\n",
    "model.fit(X_train, y_train)\n",
    "\n",
    "y_probs = model.predict_proba(X_test)[:, 1]\n",
    "\n",
    "precision, recall, _ = precision_recall_curve(y_test, y_probs)\n",
    "\n",
    "\n",
    "plt.plot(recall, precision, color='b')\n",
    "plt.xlabel('Recall')\n",
    "plt.ylabel('Precision')\n",
    "plt.title('Precision-Recall Curve')\n",
    "plt.show()\n"
   ]
  },
  {
   "cell_type": "markdown",
   "id": "2b608727-8ddc-4cb4-b3ed-ac4f356c2769",
   "metadata": {},
   "source": [
    "Q21. Write a Python program to train Logistic Regression with different solvers (liblinear, saga, lbfgs) and compare \n",
    "their accuracy"
   ]
  },
  {
   "cell_type": "code",
   "execution_count": 230,
   "id": "c030055d-5f3e-4d46-a6d0-e21326684b07",
   "metadata": {},
   "outputs": [
    {
     "name": "stdout",
     "output_type": "stream",
     "text": [
      "Accuracy with solver liblinear: 0.9649122807017544\n",
      "Accuracy with solver saga: 0.9649122807017544\n",
      "Accuracy with solver lbfgs: 0.9766081871345029\n",
      "\n",
      "Comparison of Solvers:\n",
      "liblinear: 0.9649122807017544\n",
      "saga: 0.9649122807017544\n",
      "lbfgs: 0.9766081871345029\n"
     ]
    }
   ],
   "source": [
    "from sklearn.linear_model import LogisticRegression\n",
    "from sklearn.datasets import load_breast_cancer\n",
    "from sklearn.model_selection import train_test_split\n",
    "from sklearn.metrics import accuracy_score\n",
    "\n",
    "data = load_breast_cancer()\n",
    "X = data.data\n",
    "y = data.target\n",
    "\n",
    "X_train, X_test, y_train, y_test = train_test_split(X, y, test_size=0.3, random_state=42)\n",
    "\n",
    "solvers = ['liblinear', 'saga', 'lbfgs']\n",
    "accuracy_results = {}\n",
    "\n",
    "for solver in solvers:\n",
    "    model = LogisticRegression(solver=solver, max_iter=10000)\n",
    "    model.fit(X_train, y_train)\n",
    "    \n",
    "    y_pred = model.predict(X_test)\n",
    "    accuracy = accuracy_score(y_test, y_pred)\n",
    "    accuracy_results[solver] = accuracy\n",
    "    print(f\"Accuracy with solver {solver}: {accuracy}\")\n",
    "\n",
    "print(\"\\nComparison of Solvers:\")\n",
    "for solver, accuracy in accuracy_results.items():\n",
    "    print(f\"{solver}: {accuracy}\")\n"
   ]
  },
  {
   "cell_type": "markdown",
   "id": "47d8abd0-1820-44fe-bcdc-ebf628f5c0d2",
   "metadata": {},
   "source": [
    "Q22. Write a Python program to train Logistic Regression and evaluate its performance using Matthews \n",
    "Correlation Coefficient (MCC)"
   ]
  },
  {
   "cell_type": "code",
   "execution_count": 232,
   "id": "f6e8ec3d-87ea-433b-87f3-4f5a99e537bf",
   "metadata": {},
   "outputs": [
    {
     "name": "stdout",
     "output_type": "stream",
     "text": [
      "Matthews Correlation Coefficient (MCC): 0.9497354497354498\n"
     ]
    }
   ],
   "source": [
    "from sklearn.linear_model import LogisticRegression\n",
    "from sklearn.datasets import load_breast_cancer\n",
    "from sklearn.model_selection import train_test_split\n",
    "from sklearn.metrics import matthews_corrcoef\n",
    "\n",
    "# Load dataset\n",
    "data = load_breast_cancer()\n",
    "X = data.data\n",
    "y = data.target\n",
    "\n",
    "# Train-test split\n",
    "X_train, X_test, y_train, y_test = train_test_split(X, y, test_size=0.3, random_state=42)\n",
    "\n",
    "# Train Logistic Regression\n",
    "model = LogisticRegression(max_iter=10000)\n",
    "model.fit(X_train, y_train)\n",
    "\n",
    "# Predictions\n",
    "y_pred = model.predict(X_test)\n",
    "\n",
    "# Matthews Correlation Coefficient (MCC)\n",
    "mcc = matthews_corrcoef(y_test, y_pred)\n",
    "print(f\"Matthews Correlation Coefficient (MCC): {mcc}\")\n"
   ]
  },
  {
   "cell_type": "markdown",
   "id": "b5ac5ab2-8995-4963-908c-63e4b1db27a4",
   "metadata": {},
   "source": [
    "Q23. Write a Python program to train Logistic Regression on both raw and standardized data. Compare their \n",
    "accuracy to see the impact of feature scaling"
   ]
  },
  {
   "cell_type": "code",
   "execution_count": 234,
   "id": "10d52632-3fe1-48af-94bc-8abee4af481b",
   "metadata": {},
   "outputs": [
    {
     "name": "stdout",
     "output_type": "stream",
     "text": [
      "Accuracy with raw data: 0.9766081871345029\n",
      "Accuracy with standardized data: 0.9824561403508771\n"
     ]
    }
   ],
   "source": [
    "from sklearn.linear_model import LogisticRegression\n",
    "from sklearn.datasets import load_breast_cancer\n",
    "from sklearn.model_selection import train_test_split\n",
    "from sklearn.preprocessing import StandardScaler\n",
    "from sklearn.metrics import accuracy_score\n",
    "\n",
    "# Load dataset\n",
    "data = load_breast_cancer()\n",
    "X = data.data\n",
    "y = data.target\n",
    "\n",
    "# Train-test split\n",
    "X_train, X_test, y_train, y_test = train_test_split(X, y, test_size=0.3, random_state=42)\n",
    "\n",
    "# Train Logistic Regression on raw data\n",
    "model_raw = LogisticRegression(max_iter=10000)\n",
    "model_raw.fit(X_train, y_train)\n",
    "y_pred_raw = model_raw.predict(X_test)\n",
    "accuracy_raw = accuracy_score(y_test, y_pred_raw)\n",
    "\n",
    "# Standardize the data\n",
    "scaler = StandardScaler()\n",
    "X_train_scaled = scaler.fit_transform(X_train)\n",
    "X_test_scaled = scaler.transform(X_test)\n",
    "\n",
    "# Train Logistic Regression on standardized data\n",
    "model_scaled = LogisticRegression(max_iter=10000)\n",
    "model_scaled.fit(X_train_scaled, y_train)\n",
    "y_pred_scaled = model_scaled.predict(X_test_scaled)\n",
    "accuracy_scaled = accuracy_score(y_test, y_pred_scaled)\n",
    "\n",
    "# Compare accuracy\n",
    "print(f\"Accuracy with raw data: {accuracy_raw}\")\n",
    "print(f\"Accuracy with standardized data: {accuracy_scaled}\")\n"
   ]
  },
  {
   "cell_type": "markdown",
   "id": "8609fca5-8fa5-431a-8ed5-f0b2c34c6876",
   "metadata": {},
   "source": [
    "Q24. Write a Python program to train Logistic Regression and find the optimal C (regularization strength) using \n",
    "cross-validation"
   ]
  },
  {
   "cell_type": "code",
   "execution_count": 236,
   "id": "e6a69808-6fbf-4b73-9364-210bea3a5f03",
   "metadata": {},
   "outputs": [
    {
     "name": "stdout",
     "output_type": "stream",
     "text": [
      "Optimal C: 100\n",
      "Best cross-validation accuracy: 0.9647784810126583\n"
     ]
    }
   ],
   "source": [
    "from sklearn.linear_model import LogisticRegression\n",
    "from sklearn.datasets import load_breast_cancer\n",
    "from sklearn.model_selection import train_test_split, GridSearchCV\n",
    "\n",
    "# Load dataset\n",
    "data = load_breast_cancer()\n",
    "X = data.data\n",
    "y = data.target\n",
    "\n",
    "# Train-test split\n",
    "X_train, X_test, y_train, y_test = train_test_split(X, y, test_size=0.3, random_state=42)\n",
    "\n",
    "# Set up parameter grid for cross-validation\n",
    "param_grid = {'C': [0.01, 0.1, 1, 10, 100]}\n",
    "\n",
    "model = LogisticRegression(max_iter=10000)\n",
    "\n",
    "grid_search = GridSearchCV(model, param_grid, cv=5, scoring='accuracy')\n",
    "grid_search.fit(X_train, y_train)\n",
    "\n",
    "best_C = grid_search.best_params_['C']\n",
    "best_score = grid_search.best_score_\n",
    "\n",
    "print(f\"Optimal C: {best_C}\")\n",
    "print(f\"Best cross-validation accuracy: {best_score}\")\n"
   ]
  },
  {
   "cell_type": "markdown",
   "id": "a2d34481-ce95-4b35-8595-be26663fc31f",
   "metadata": {},
   "source": [
    "Q25. write a Python program to train Logistic Regression, save the trained model using joblib, and load it again to \n",
    "make predictions"
   ]
  },
  {
   "cell_type": "code",
   "execution_count": 238,
   "id": "cc6ce245-32e9-440a-97ff-08801e963a2e",
   "metadata": {},
   "outputs": [
    {
     "name": "stdout",
     "output_type": "stream",
     "text": [
      "Accuracy of the loaded model: 0.9766081871345029\n"
     ]
    }
   ],
   "source": [
    "import joblib\n",
    "from sklearn.linear_model import LogisticRegression\n",
    "from sklearn.datasets import load_breast_cancer\n",
    "from sklearn.model_selection import train_test_split\n",
    "from sklearn.metrics import accuracy_score\n",
    "\n",
    "data = load_breast_cancer()\n",
    "X = data.data\n",
    "y = data.target\n",
    "\n",
    "X_train, X_test, y_train, y_test = train_test_split(X, y, test_size=0.3, random_state=42)\n",
    "\n",
    "model = LogisticRegression(max_iter=10000)\n",
    "model.fit(X_train, y_train)\n",
    "\n",
    "joblib.dump(model, 'logistic_regression_model.pkl')\n",
    "\n",
    "loaded_model = joblib.load('logistic_regression_model.pkl')\n",
    "\n",
    "y_pred = loaded_model.predict(X_test)\n",
    "\n",
    "accuracy = accuracy_score(y_test, y_pred)\n",
    "print(f\"Accuracy of the loaded model: {accuracy}\")\n"
   ]
  }
 ],
 "metadata": {
  "kernelspec": {
   "display_name": "Python [conda env:base] *",
   "language": "python",
   "name": "conda-base-py"
  },
  "language_info": {
   "codemirror_mode": {
    "name": "ipython",
    "version": 3
   },
   "file_extension": ".py",
   "mimetype": "text/x-python",
   "name": "python",
   "nbconvert_exporter": "python",
   "pygments_lexer": "ipython3",
   "version": "3.12.7"
  }
 },
 "nbformat": 4,
 "nbformat_minor": 5
}
